{
 "cells": [
  {
   "cell_type": "markdown",
   "metadata": {},
   "source": [
    "# Metody użycia Cray Graph Engine"
   ]
  },
  {
   "cell_type": "markdown",
   "metadata": {},
   "source": [
    "## Metoda 1: cge-cli\n",
    "\n",
    "Tutaj wykorzystujemy konsolowy program `cge-cli` z poziomu Jupytera. Nic jednak nie stoi na przeszkodzie, aby wywołać ten program bezpośrednio z konsoli bądź użyć wywołania basha wykorzystującego `cge-cli` we własnym programie.\n",
    "\n",
    "`cge-cli` jest częścią składową Cray Graph Engine, nie jest to jakiś zewnętrzny program firmy niezwiązanej z Cray.\n",
    "\n",
    "`cge-cli` wymaga zapytania podanego w pliku, i wynik jego wykonania również zapisuje w pliku. Parametrami programu można sterować, tak, aby uzyskać żądany format docelowego pliku wynikowego.\n",
    "\n",
    "#### Przykład użycia cge-cli w Jupyterze:"
   ]
  },
  {
   "cell_type": "code",
   "execution_count": 1,
   "metadata": {},
   "outputs": [
    {
     "name": "stdout",
     "output_type": "stream",
     "text": [
      "0\t10\t1681\t0\tfile:///lustre/tetyda/home/kdmszk40/cge/output/queryResults.2020-10-14T20.33.13Z003.6917.tsv\t\t\n"
     ]
    },
    {
     "name": "stderr",
     "output_type": "stream",
     "text": [
      "WARNING: An illegal reflective access operation has occurred\n",
      "WARNING: Illegal reflective access by org.apache.hadoop.security.authentication.util.KerberosUtil (file:/opt/cray/cge/3.2.1465_rf66789e_fe3.3.0_2020011716/bin/cge-fe.jar) to method sun.security.krb5.Config.getInstance()\n",
      "WARNING: Please consider reporting this to the maintainers of org.apache.hadoop.security.authentication.util.KerberosUtil\n",
      "WARNING: Use --illegal-access=warn to enable warnings of further illegal reflective access operations\n",
      "WARNING: All illegal access operations will be denied in a future release\n",
      "0 [main] WARN com.cray.cge.cli.CgeCli  - User data hiding is enabled by default, logs will obscure/omit user data.  Set cge.server.RevealUserDataInLogs=1 in the in-scope cge.properties file to disable this behaviour.\n",
      "6 [main] INFO com.cray.cge.cli.commands.queries.QueryCommand  - Received 1 queries to execute\n",
      "12 [main] INFO com.cray.cge.cli.commands.queries.QueryCommand  - Running Query 1 of 1\n",
      "671 [main] INFO com.cray.cge.cli.commands.queries.QueryCommand  - Query 1 of 1 succeeded\n"
     ]
    }
   ],
   "source": [
    "%%bash\n",
    "cge-cli query --db-port=37501 ../cge/query.rq"
   ]
  },
  {
   "cell_type": "markdown",
   "metadata": {},
   "source": [
    "## Metoda 2: CGE GUI\n",
    "\n",
    "CGE GUI jest to serwer, który łączy się z bazą danych CGE. Można z nim połączyć się za pomocą przeglądarki internetowej, wchodząc na stronę internetową odpowiadającą komputerowi, na którym CGE GUI jest uruchomiony i wskazując odpowiedni port, bądź też (tak jak na tych warsztatach) wskazując adres i port zgodny z ustawionym schematem tunelowania.\n",
    "\n",
    "Następnie w wyświetlonej prostej stronie internetowej można wpisać odpowiednie zapytanie, a także wybrać format odpowiedzi. Istnieją dwie oddzielne sekcje dla zapytań QUERY oraz UPDATE - pierwsza dotyczy zapytań, które nie modyfikują grafu, a druga dotyczy zapytań, które mogą to zrobić (choć nie muszą).\n",
    "\n",
    "Strona internetowa do obsługi CGE GUI jest dosyć prymitywna - np. nie działa zapamiętywanie wprowadzonych zapytań, nie ma też możliwości wyświetlenia wyników zapytania w tabelce - potrzeba do tego użyć jakiegoś dodatkowego, zewnętrznego narzędzia."
   ]
  },
  {
   "cell_type": "markdown",
   "metadata": {},
   "source": [
    "## Metoda 3: Użycie CGE GUI jako endpointa SPARQL\n",
    "\n",
    "CGE GUI pełni podwójną funkcję - poza wyświetlaniem strony internetowej jest także tzw. endpointem SPARQL. Oznacza to, że zamiast korzystać z wyświetlanej przez CGE GUI strony internetowej, można użyć programu bądź biblioteki potrafiącej komunikować się z endpointem SPARQL. Będzie to jakaś biblioteka firmy zewnętrznej - istnieje takich dość dużo, ponieważ endpoint SPARQL nie jest czymś specyficznym dla Cray Graph Engine, a uniwersalnym, standardowym sposobem komunikacji z wieloma bazami RDF."
   ]
  },
  {
   "cell_type": "markdown",
   "metadata": {},
   "source": [
    "#### Przykład komunikacji z endpointem SPARQL wystawionym przez CGE GUI z użyciem zewnętrznej biblioteki w języku Python"
   ]
  },
  {
   "cell_type": "code",
   "execution_count": 2,
   "metadata": {},
   "outputs": [],
   "source": [
    "import sparql"
   ]
  },
  {
   "cell_type": "code",
   "execution_count": 3,
   "metadata": {},
   "outputs": [],
   "source": [
    "q = \"\"\"\n",
    "select * where {\n",
    "    ?s ?p ?o\n",
    "}\n",
    "limit 10\n",
    "\"\"\""
   ]
  },
  {
   "cell_type": "code",
   "execution_count": 4,
   "metadata": {},
   "outputs": [
    {
     "name": "stdout",
     "output_type": "stream",
     "text": [
      "http://semanticbible.org/ns/2006/NTNames#member\n",
      "http://www.w3.org/2000/01/rdf-schema#domain\n",
      "http://semanticbible.org/ns/2006/NTNames#Group\n",
      "\n",
      "http://semanticbible.org/ns/2006/NTNames#latitude\n",
      "http://www.w3.org/2000/01/rdf-schema#domain\n",
      "http://semanticbible.org/ns/2006/NTNames#GeographicLocation\n",
      "\n",
      "http://semanticbible.org/ns/2006/NTNames#name_en\n",
      "http://www.w3.org/2000/01/rdf-schema#domain\n",
      "b0\n",
      "\n",
      "http://semanticbible.org/ns/2006/NTNames#politicalBelief\n",
      "http://www.w3.org/2000/01/rdf-schema#domain\n",
      "b1\n",
      "\n",
      "http://semanticbible.org/ns/2006/NTNames#subregionOf\n",
      "http://www.w3.org/2000/01/rdf-schema#domain\n",
      "http://semanticbible.org/ns/2006/NTNames#GeographicArea\n",
      "\n",
      "http://semanticbible.org/ns/2006/NTNames#relativeOf\n",
      "http://www.w3.org/2000/01/rdf-schema#domain\n",
      "http://semanticbible.org/ns/2006/NTNames#Human\n",
      "\n",
      "http://semanticbible.org/ns/2006/NTNames#ethnicity\n",
      "http://www.w3.org/2000/01/rdf-schema#domain\n",
      "http://semanticbible.org/ns/2006/NTNames#Human\n",
      "\n",
      "http://semanticbible.org/ns/2006/NTNames#hasAntagonist\n",
      "http://www.w3.org/2000/01/rdf-schema#domain\n",
      "http://semanticbible.org/ns/2006/NTNames#Human\n",
      "\n",
      "http://semanticbible.org/ns/2006/NTNames#possiblySamePersonAs\n",
      "http://www.w3.org/2000/01/rdf-schema#domain\n",
      "http://semanticbible.org/ns/2006/NTNames#Human\n",
      "\n",
      "http://semanticbible.org/ns/2006/NTNames#knows\n",
      "http://www.w3.org/2000/01/rdf-schema#domain\n",
      "http://semanticbible.org/ns/2006/NTNames#Human\n",
      "\n"
     ]
    }
   ],
   "source": [
    "res = sparql.query('http://localhost:37561/dataset/query', q)\n",
    "\n",
    "for row in res:\n",
    "    unpacked = sparql.unpack_row(row)\n",
    "    for value in unpacked:\n",
    "        print(value)\n",
    "    print()\n"
   ]
  },
  {
   "cell_type": "markdown",
   "metadata": {},
   "source": [
    "## Metoda 4: Użycie CGE API\n",
    "\n",
    "CGE oferuje także API do Javy, Pythona oraz Sparka. Jeśli wierzyć dokumentacji, API Pythona nie jest na ten moment wspierane w pakiecie Urika-XC (a więc na Okeanosie również nie). API Javy oraz Pythona powinno działać - jednakże osobiście nie wypróbowałem jego działania."
   ]
  }
 ],
 "metadata": {
  "kernelspec": {
   "display_name": "Python 3",
   "language": "python",
   "name": "python3"
  },
  "language_info": {
   "codemirror_mode": {
    "name": "ipython",
    "version": 3
   },
   "file_extension": ".py",
   "mimetype": "text/x-python",
   "name": "python",
   "nbconvert_exporter": "python",
   "pygments_lexer": "ipython3",
   "version": "3.6.8"
  }
 },
 "nbformat": 4,
 "nbformat_minor": 4
}
