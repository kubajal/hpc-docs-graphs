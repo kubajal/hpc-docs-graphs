{
 "cells": [
  {
   "cell_type": "markdown",
   "metadata": {},
   "source": [
    "## Algorytm PageRank\n",
    "\n",
    "Poniższa prosta implementacja bazuje na [wzorze z Wikipedii](https://pl.wikipedia.org/wiki/PageRank#Algorytm). Funkcja `pagerank` wykonuje jeden krok iteracji."
   ]
  },
  {
   "cell_type": "code",
   "execution_count": 1,
   "metadata": {},
   "outputs": [],
   "source": [
    "DAMPING_FACTOR = 0.85\n",
    "\n",
    "class Page:\n",
    "    def __init__(self, links_to):\n",
    "        self.rank = 1\n",
    "        self.old_rank = 1\n",
    "        self.links_to = links_to\n",
    "\n",
    "def pagerank(pages_dict):\n",
    "    for page in pages_dict.values():\n",
    "        page.old_rank = page.rank\n",
    "        page.rank = (1 - DAMPING_FACTOR) / len(pages_dict)\n",
    "        \n",
    "    for page in pages_dict.values():\n",
    "        for linked_page in [pages_dict[x] for x in page.links_to]:\n",
    "            linked_page.rank += DAMPING_FACTOR * page.old_rank / len(page.links_to)\n",
    "\n",
    "def print_ranks(pages_dict):\n",
    "    for page in pages_dict:\n",
    "        print(f'{page}: {pages_dict[page].rank}')"
   ]
  },
  {
   "cell_type": "markdown",
   "metadata": {},
   "source": [
    "Poniżej dane jak dla przykładu nr 1 z Wikipedii."
   ]
  },
  {
   "cell_type": "code",
   "execution_count": 2,
   "metadata": {},
   "outputs": [],
   "source": [
    "pages = {\n",
    "    'a': Page(['b', 'd']),\n",
    "    'b': Page(['a']),\n",
    "    'c': Page(['a', 'b']),\n",
    "    'd': Page(['c'])\n",
    "}"
   ]
  },
  {
   "cell_type": "markdown",
   "metadata": {},
   "source": [
    "Co na grafie wyglądałoby następująco:\n",
    "\n",
    "![Graf stron](../images/pagerank/abcd_gephi_small.png) "
   ]
  },
  {
   "cell_type": "markdown",
   "metadata": {},
   "source": [
    "Po ok. 50 iteracjach dla ww. przykładu i współczynnika tłumienia 0.85 algorytm osiąga zbieżność - dla prostoty pominięto tutaj automatyczne wykrywanie zbieżności."
   ]
  },
  {
   "cell_type": "code",
   "execution_count": 3,
   "metadata": {},
   "outputs": [
    {
     "name": "stdout",
     "output_type": "stream",
     "text": [
      "Stan początkowy:\n",
      "a: 1\n",
      "b: 1\n",
      "c: 1\n",
      "d: 1\n",
      "\n",
      "Iteracja: 9\n",
      "a: 0.5623505353694931\n",
      "b: 0.4322265791660144\n",
      "c: 0.30132085774026984\n",
      "d: 0.2947252407463905\n",
      "\n",
      "Iteracja: 19\n",
      "a: 0.3916088772144747\n",
      "b: 0.300838981044389\n",
      "c: 0.21669762713552462\n",
      "d: 0.20713310785915465\n",
      "\n",
      "Iteracja: 29\n",
      "a: 0.3576758940722046\n",
      "b: 0.2753391284358139\n",
      "c: 0.19974025093782935\n",
      "d: 0.19013700533852065\n",
      "\n",
      "Iteracja: 39\n",
      "a: 0.3509906847352029\n",
      "b: 0.27032448040044704\n",
      "c: 0.1963977759047993\n",
      "d: 0.18679396270922516\n",
      "\n",
      "Iteracja: 49\n",
      "a: 0.349674468643652\n",
      "b: 0.26933730738408623\n",
      "c: 0.1957396697721065\n",
      "d: 0.1861358481912935\n",
      "\n"
     ]
    }
   ],
   "source": [
    "print('Stan początkowy:')\n",
    "print_ranks(pages)\n",
    "print()\n",
    "\n",
    "for i in range(50):\n",
    "    pagerank(pages)\n",
    "    if (i % 10 == 9):\n",
    "        print(f'Iteracja: {i}')\n",
    "        print_ranks(pages)\n",
    "        print()"
   ]
  },
  {
   "cell_type": "markdown",
   "metadata": {},
   "source": [
    "## Konwersja do grafu RDF"
   ]
  },
  {
   "cell_type": "code",
   "execution_count": 4,
   "metadata": {},
   "outputs": [],
   "source": [
    "def page_iri(page_name):\n",
    "    return f'<http://{page_name}.com>'\n",
    "\n",
    "LINK_IRI = '<http://example.com/links_to>'\n",
    "\n",
    "def page_dict_to_ntriples_file(page_dict, filename):\n",
    "    with open(filename, 'w') as f:\n",
    "        for page_name in page_dict:\n",
    "            for linked_page in page_dict[page_name].links_to:\n",
    "                print(page_iri(page_name), LINK_IRI, page_iri(linked_page), '.', file=f)"
   ]
  },
  {
   "cell_type": "code",
   "execution_count": 5,
   "metadata": {},
   "outputs": [],
   "source": [
    "page_dict_to_ntriples_file(pages, 'pages.nt')"
   ]
  },
  {
   "cell_type": "markdown",
   "metadata": {},
   "source": [
    "## Uruchomienie PageRank w CGE\n",
    "\n",
    "Wystarczy odpowiednio spreparowane zapytanie w (rozszerzonym) SPARQL:\n",
    "\n",
    "\n",
    "```\n",
    "prefix cray: <http://cray.com/>\n",
    "\n",
    "select ?vertices ?pagerank where {\n",
    "    construct {\n",
    "        ?sub ?pred ?obj .\n",
    "    } where {\n",
    "        ?sub ?pred ?obj\n",
    "    }\n",
    "    invoke cray:graphAlgorithm.pagerank(0.0005, 0.85)\n",
    "    producing ?vertices ?pagerank\n",
    "}\n",
    "order by desc(?pagerank)\n",
    "```\n",
    "\n",
    "Warto zwrócić uwagę na to, jak w klauzuli `invoke` przekazano do algorytmu parametry liczbowe.\n",
    "\n",
    "### Przykładowy wynik z CGE w formacie TSV:\n",
    "\n",
    "```\n",
    "?vertices\t?pagerank\n",
    "<http://a.com>\t\"1\"^^<http://www.w3.org/2001/XMLSchema#double>\n",
    "<http://b.com>\t\"0.7704550561822686\"^^<http://www.w3.org/2001/XMLSchema#double>\n",
    "<http://c.com>\t\"0.559802417230212\"^^<http://www.w3.org/2001/XMLSchema#double>\n",
    "<http://d.com>\t\"0.532450808488539\"^^<http://www.w3.org/2001/XMLSchema#double>\n",
    "```\n",
    "\n",
    "Są to identyczne wartości, jak wyliczone wcześniej, ale znormalizowane tak, aby strona z najwyższym wynikiem miała wartość 1."
   ]
  },
  {
   "cell_type": "markdown",
   "metadata": {},
   "source": [
    "### Odtworzenie powyższych wyników\n",
    "\n",
    "Do odtworzenie poniższych wyników wymagane jest wyczyszczenie katalogu zawierającego dane wejściowe do CGE oraz skopiowanie tam nowego pliku z danymi.\n",
    "\n",
    "Przed czyszczeniem katalogu trzeba zamknąć proces CGE, a po skopiowaniu nowych danych należy uruchomić bazę ponownie.\n",
    "\n",
    "Czyszczenie oraz skopiowanie pliku można zrobić następującymi komendami:\n",
    "\n",
    "```\n",
    "cd ~\n",
    "rm cge/db/*\n",
    "cp notebooki/pages.nt cge/db/dataset.nt\n",
    "```"
   ]
  }
 ],
 "metadata": {
  "kernelspec": {
   "display_name": "Python 3",
   "language": "python",
   "name": "python3"
  },
  "language_info": {
   "codemirror_mode": {
    "name": "ipython",
    "version": 3
   },
   "file_extension": ".py",
   "mimetype": "text/x-python",
   "name": "python",
   "nbconvert_exporter": "python",
   "pygments_lexer": "ipython3",
   "version": "3.9.2"
  }
 },
 "nbformat": 4,
 "nbformat_minor": 4
}
