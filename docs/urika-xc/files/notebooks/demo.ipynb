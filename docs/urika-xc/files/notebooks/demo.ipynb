{
 "cells": [
  {
   "cell_type": "markdown",
   "metadata": {},
   "source": [
    "# Trovares xGT - demo\n",
    "\n"
   ]
  },
  {
   "cell_type": "markdown",
   "metadata": {},
   "source": [
    "## Wprowadzenie\n",
    "\n",
    "Źródło - [An Introduction to Graph Analysis with xGT, Trovares](http://docs.trovares.com/v1.4/docs/jupyter/LANL-ZR/LANL-ZR.html)\n",
    "\n",
    "Poniższy przykład to analiza anomalii w ruchu sieciowym w _Los Alamos National Lab_ - [opis danych](https://datasets.trovares.com/cyber/LANL/index.html). Dane obejmują:\n",
    " - informacje o urządzeniach sieciowych (`Devices`) - wierzchołki grafu,\n",
    " - dane o ruchu sieciowym między urządzeniami (`Netflow`) - I typ krawędzi,\n",
    " - dane o zdarzeniach w urządzeniach (`Host events`) - II typ krawędzi.\n",
    " \n",
    "Schematycznie reprezentacja logów ruchu sieciowego przekłada się na następujący graf:\n",
    "\n",
    "![graf LANL](https://docs.trovares.com/v1.4/_images/Data-Model.png)\n",
    "\n",
    "Pierwsze trzy linie przedstawiają \"logi\" urządzenia, zawierające informacje o: 1. urządzeniu, 2. krawędziach I typu (ich atrybutach), 3. krawędziach II typu (ich atrybutach). Wpisy z logów przekładają się na graf widoczny niżej."
   ]
  },
  {
   "source": [
    "## Łączenie się z serwerem Trovares xGT\n",
    "\n",
    "Pierwszą rzeczą jaką trzeba zrobić to zaimportować potrzebne biblioteki oraz utworzyć połączenie z serwerem Trovares xGT."
   ],
   "cell_type": "markdown",
   "metadata": {}
  },
  {
   "source": [
    "import xgt\n",
    "import getpass\n",
    "import os\n",
    "conn=xgt.Connection(userid='kdmszkXX', credentials=getpass.getpass(), port=os.getuid()+20000)"
   ],
   "cell_type": "code",
   "metadata": {},
   "execution_count": null,
   "outputs": []
  },
  {
   "cell_type": "markdown",
   "metadata": {},
   "source": [
    "Kolejną rzeczą jest upewnienie się, że na serwerze nie istnieje jeszcze żadna ramka krawędzi bądź wierzchołków. Poniższa komórka kodu usuwa wszystkie ramki danych oraz usuwa wszystkie przestrzenie nazw ramek."
   ]
  },
  {
   "cell_type": "code",
   "execution_count": null,
   "metadata": {},
   "outputs": [],
   "source": [
    "[conn.drop_frame(_) for _ in conn.get_edge_frames()]\n",
    "[conn.drop_frame(_) for _ in conn.get_vertex_frames()]\n",
    "[conn.drop_frame(_) for _ in conn.get_table_frames()]\n",
    "[conn.drop_frame(_) for _ in ['lanl__Netflow','lanl__HostEvents','lanl__Devices']]\n",
    "conn.drop_namespace('lanl')\n",
    "conn.drop_namespace('results', force_drop=True)"
   ]
  },
  {
   "cell_type": "markdown",
   "metadata": {},
   "source": [
    "## Tworzenie definicji grafu\n",
    "\n",
    "Następnie tworzymy od zera wszystie puste ramki:\n",
    " - wierzchołków - `devices`\n",
    " - krawędzi - `netflow` oraz `host_events`\n",
    " \n",
    " do których będziemy wczytywać dane z plików .csv. Należy zwrócić uwagę na schematy poszczególnych ramek."
   ]
  },
  {
   "cell_type": "code",
   "execution_count": null,
   "metadata": {},
   "outputs": [],
   "source": [
    "devices = conn.create_vertex_frame(\n",
    "    name='lanl__Devices',\n",
    "    schema=[['device', xgt.TEXT]],\n",
    "    key='device')\n",
    "\n",
    "host_events = conn.create_edge_frame(\n",
    "    name='lanl__HostEvents',\n",
    "    schema=[['epoch_time', xgt.INT],\n",
    "            ['event_id', xgt.INT],\n",
    "            ['log_host', xgt.TEXT],\n",
    "            ['user_name', xgt.TEXT],\n",
    "            ['domain_name', xgt.TEXT],\n",
    "            ['logon_id', xgt.INT],\n",
    "            ['process_name', xgt.TEXT],\n",
    "            ['process_id', xgt.INT],\n",
    "            ['parent_process_name', xgt.TEXT],\n",
    "            ['parent_process_id', xgt.INT]],\n",
    "    source=devices,\n",
    "    target=devices,\n",
    "    source_key='log_host',\n",
    "    target_key='log_host')\n",
    "\n",
    "netflow = conn.create_edge_frame(\n",
    "    name='lanl__Netflow',\n",
    "    schema=[['epoch_time', xgt.INT],\n",
    "            ['duration', xgt.INT],\n",
    "            ['src_device', xgt.TEXT],\n",
    "            ['dst_device', xgt.TEXT],\n",
    "            ['protocol', xgt.INT],\n",
    "            ['src_port', xgt.INT],\n",
    "            ['dst_port', xgt.INT],\n",
    "            ['src_packets', xgt.INT],\n",
    "            ['dst_packets', xgt.INT],\n",
    "            ['src_bytes', xgt.INT],\n",
    "            ['dst_bytes', xgt.INT]],\n",
    "    source=devices,\n",
    "    target=devices,\n",
    "    source_key='src_device',\n",
    "    target_key='dst_device')"
   ]
  },
  {
   "cell_type": "markdown",
   "metadata": {},
   "source": [
    "Tworzymy funkcję pomocniczą, która wyświetla liczby krawędzi i wierzchołków w grafie."
   ]
  },
  {
   "cell_type": "code",
   "execution_count": null,
   "metadata": {},
   "outputs": [],
   "source": [
    "def print_data_summary():\n",
    "  print('Devices (wierzcholki): {:,}'.format(devices.num_vertices))\n",
    "  print('Netflow (krawedzie I): {:,}'.format(netflow.num_edges))\n",
    "  print('Host event (krawedzie II): {:,}'.format(host_events.num_edges))\n",
    "\n",
    "print_data_summary()"
   ]
  },
  {
   "cell_type": "markdown",
   "metadata": {},
   "source": [
    "## Wczytywanie danych\n",
    "\n",
    "Wczytujemy krawędzie typu `host_events` oraz jednocześnie wierzchołki `devices`. Plik `/tmp/wls_day-02_1v.csv` zawierający te dane ma około 1,1GB. Jego wczytywanie trwa około 40 sekund."
   ]
  },
  {
   "cell_type": "code",
   "execution_count": null,
   "metadata": {},
   "outputs": [],
   "source": [
    "%%time\n",
    "urls = [\"/tmp/wls_day-02_1v.csv\"]\n",
    "host_events.load(urls)\n",
    "print_data_summary()\n",
    "# okolo 40s\n"
   ]
  },
  {
   "cell_type": "markdown",
   "metadata": {},
   "source": [
    "Wczytujemy krawędzie typu `netflow`. Plik `/tmp/nf_day-02.csv` ma około 6 GB. Jego wczytywanie trwa około 4 minuty."
   ]
  },
  {
   "cell_type": "code",
   "execution_count": null,
   "metadata": {},
   "outputs": [],
   "source": [
    "%%time\n",
    "if netflow.num_edges == 0:\n",
    "    urls = [\"/tmp/nf_day-02.csv\"]\n",
    "    netflow.load(urls)\n",
    "    \n",
    "# okolo 4 minuty"
   ]
  },
  {
   "cell_type": "markdown",
   "metadata": {},
   "source": [
    "Sprawdźmy ile wierzchołków i krawędzi wczytano łącznie."
   ]
  },
  {
   "cell_type": "code",
   "execution_count": null,
   "metadata": {},
   "outputs": [],
   "source": [
    "print_data_summary()"
   ]
  },
  {
   "cell_type": "markdown",
   "metadata": {},
   "source": [
    "## Analityka przy Trovares xGT\n",
    "\n",
    "Teraz przeanalizujmy wszystkie wystąpienia następującej sekwencji ruchu sieciowego, która może wskazywać na incydent bezpieczeństwa:\n",
    "1. urządzenie A włącza się (następuje zdarzenie typu `Boot`), a następnie uruchamia program (następuje zdarzenie typu `Program start`),\n",
    "2. w niedługim czasie po tym to samo urządzenie A wysyła wiadomość do innego urządzenia B (ruch sieciowy `Netflow 1`),\n",
    "3. urządzenie B posiada połączenie do urządzenia C, które zostało nawiązane przed uruchomieniem urządzenia A i trwa nadal po wiadomości wysłanej od A do B (ruch sieciowy `Netflow 2`).\n",
    "\n",
    "Innymi słowy, szukamy w grafie takiego wzorca:\n",
    "\n",
    "![szukany wzorzec](http://docs.trovares.com/v1.4/_images/zr-pattern-final1.png)\n",
    "\n",
    "[Źródło obrazka](http://docs.trovares.com/v1.4/docs/jupyter/LANL-ZR/LANL-ZR.html)"
   ]
  },
  {
   "cell_type": "code",
   "execution_count": null,
   "metadata": {},
   "outputs": [],
   "source": [
    "%%time\n",
    "q = \"\"\"\n",
    "MATCH (a)-[boot:lanl__HostEvents]->(a)-[program:lanl__HostEvents]->(a)\n",
    "         <-[nf1:lanl__Netflow]-(b)-[nf2:lanl__Netflow]->(c)\n",
    "WHERE a <> b AND b <> c AND a <> c\n",
    "  AND nf1.src_port = 3128\n",
    "  AND boot.event_id = 4608\n",
    "  AND program.event_id = 4688\n",
    "  AND program.epoch_time >= boot.epoch_time\n",
    "  AND nf1.epoch_time >= program.epoch_time\n",
    "  AND nf1.epoch_time - boot.epoch_time < 4\n",
    "  AND nf2.duration >= 3600\n",
    "  AND nf2.epoch_time < nf1.epoch_time\n",
    "  AND nf2.epoch_time + nf2.duration >= nf1.epoch_time\n",
    "RETURN a\n",
    "INTO results__Answers\n",
    "\"\"\"\n",
    "\n",
    "conn.drop_frame('results__Answers')\n",
    "conn.run_job(q)\n",
    "print('Mozliwych incydentow bezpieczenstwa: ' + '{:,}'.format(conn.get_table_frame('results__Answers').num_rows))"
   ]
  }
 ],
 "metadata": {
  "kernelspec": {
   "display_name": "Python 3",
   "language": "python",
   "name": "python3"
  },
  "language_info": {
   "codemirror_mode": {
    "name": "ipython",
    "version": 3
   },
   "file_extension": ".py",
   "mimetype": "text/x-python",
   "name": "python",
   "nbconvert_exporter": "python",
   "pygments_lexer": "ipython3",
   "version": "3.6.8"
  }
 },
 "nbformat": 4,
 "nbformat_minor": 4
}