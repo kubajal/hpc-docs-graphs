{
 "cells": [
  {
   "cell_type": "markdown",
   "metadata": {},
   "source": [
    "# Trovares xGT\n",
    "\n",
    "Dokumentacja: http://docs.trovares.com/v1.4/index.html\n",
    "\n",
    "## Ponowne połączenie\n",
    "\n",
    "Importujemy biblioteki i tworzymy połączenie."
   ]
  },
  {
   "cell_type": "code",
   "execution_count": null,
   "metadata": {},
   "outputs": [],
   "source": [
    "import xgt\n",
    "import getpass\n",
    "import os\n",
    "server = xgt.Connection(userid='kdmszkXX', credentials=getpass.getpass(), port=os.getuid()+20000)\n",
    "print('Wersja klienta: {}'.format(xgt.__version__))\n",
    "print('Wersja serwera: {}'.format(server.server_version))"
   ]
  },
  {
   "cell_type": "markdown",
   "metadata": {},
   "source": [
    "Upewnijmy się, że żadna ramka nie istnieje na serwerze."
   ]
  },
  {
   "cell_type": "code",
   "execution_count": null,
   "metadata": {},
   "outputs": [],
   "source": [
    "def clear_all():\n",
    "    [server.drop_frame(frame) for frame in server.get_edge_frames()]\n",
    "    [server.drop_frame(frame) for frame in server.get_table_frames()]\n",
    "    [server.drop_frame(frame) for frame in server.get_vertex_frames()]\n",
    "    \n",
    "clear_all()"
   ]
  },
  {
   "cell_type": "markdown",
   "metadata": {},
   "source": [
    "Wczytajmy ponownie dane osób (`social_network/persons_0_0.csv`) oraz dane relacji \"kto kogo lubi\" (`social_network/person_knows_person_0_0.csv`)."
   ]
  },
  {
   "cell_type": "code",
   "execution_count": null,
   "metadata": {},
   "outputs": [],
   "source": [
    "persons = server.create_vertex_frame(\n",
    "        name='ldbc__persons',\n",
    "        schema=[['creationDate', xgt.DATETIME], ['id', xgt.INT], ['firstName', xgt.TEXT], ['lastName', xgt.TEXT], ['gender', xgt.TEXT], ['birthday', xgt.DATE],\n",
    "               ['locationIP', xgt.IPADDRESS], ['browserUsed', xgt.TEXT]],\n",
    "        key='id')\n",
    "\n",
    "person_knows_person = server.create_edge_frame(\n",
    "    name=\"ldbc__person_knows_person\",\n",
    "    schema=[['creationDate', xgt.DATETIME], ['Person1.id', xgt.INT], ['Person2.id', xgt.INT]],\n",
    "    source=persons,\n",
    "    target=persons,\n",
    "    source_key='Person1.id', \n",
    "    target_key='Person2.id')\n",
    "\n",
    "persons.load(\"/home/kdmszkXX/workshop/social_network/person_0_0.csv\", headerMode=xgt.HeaderMode.IGNORE)\n",
    "person_knows_person.load(\"/home/kdmszkXX/workshop/social_network/person_knows_person_0_0.csv\", headerMode=xgt.HeaderMode.IGNORE)"
   ]
  },
  {
   "cell_type": "markdown",
   "metadata": {},
   "source": [
    "Sprawdźmy ile wierzchołków `Person` i krawędzi `Person_knows_person` wczytano."
   ]
  },
  {
   "cell_type": "code",
   "execution_count": null,
   "metadata": {},
   "outputs": [],
   "source": [
    "print(\"liczba wierzcholkow Persons: \" + str(persons.num_vertices))\n",
    "print(\"liczba krawedzi Person_knows_person: \" + str(person_knows_person.num_edges))"
   ]
  },
  {
   "cell_type": "markdown",
   "metadata": {},
   "source": [
    "## Trovares Query Language - pierwsze podejście\n",
    "\n",
    "Wszystkie krawędzie w Trovares xGT są skierowane, natomiast sama relacja `person knows person` jest \"z natury\" symetryczna (bo jeśli osoba `A` zna osobę `B`, to także `B` zna `A`). Wczytaliśmy na razie krawędzie \"w jedną stronę\", co nie oddaje pełnej istoty relacji `person knows person`. W związku z tym sami utwórzmy brakujące krawędzie \"w drugą stronę\".\n",
    "\n",
    "Posłuży nam do tego następujące zapytanie w Trovares Query Language. Pierwsza linijka wyszuka wzorzec, w którym `osoba1` jest wierzchołkiem źródłowym krawędzi `zna`, a `osoba2` jest wierzchołkiem docelowym tej krawędzi. Druga linijka utworzy \"odbicie lustrzane\" znalezionej krawędzi, tzn. nową krawędź biegnącą w drugą stronę."
   ]
  },
  {
   "cell_type": "code",
   "execution_count": null,
   "metadata": {},
   "outputs": [],
   "source": [
    "query = \"\"\"\n",
    "MATCH (osoba1:ldbc__persons)-[zna:ldbc__person_knows_person]->(osoba2:ldbc__persons)\n",
    "CREATE (osoba2)-[zna_w_druga_strone:ldbc__person_knows_person { creationDate: zna.creationDate }]->(osoba1)\n",
    "\"\"\"\n",
    "\n",
    "server.run_job(query)"
   ]
  },
  {
   "cell_type": "markdown",
   "metadata": {},
   "source": [
    "Sprawdźmy, czy rzeczywiście zostały dodane nowe krawędzie."
   ]
  },
  {
   "cell_type": "code",
   "execution_count": null,
   "metadata": {},
   "outputs": [],
   "source": [
    "print(\"liczba wierzcholkow Persons: \" + str(persons.num_vertices))\n",
    "print(\"liczba krawedzi Person_knows_person: \" + str(person_knows_person.num_edges))"
   ]
  },
  {
   "cell_type": "markdown",
   "metadata": {},
   "source": [
    "## Słowa kluczowe\n",
    "\n",
    "Pełen spis słow kluczowych znajduje się na tej stronie: [link](http://docs.trovares.com/v1.4/graphanalytics/tql_intro.html).\n",
    "\n",
    "Do słów kluczowych omawianych na tych warsztatach należą:\n",
    "\n",
    "#### MATCH\n",
    "\n",
    "Słowo kluczowe, od którego zaczynamy zapytanie. Po nim musi nastąpić jedna lub kilka (połączonych `,`) sekwencji `(w1:ramka_wierzcholkow1)-[k:ramka_krawedzi]->(w2:ramka_wierzcholkow2)`, gdzie:\n",
    " - `w1`, `k` i `w2` wiążą w znalezionym wzorcu wierzchołki i krawędzie\n",
    " - `ramka_wierzcholkow1`, `ramka_krawedzi` i `ramka_wierzcholkow2` to nazwy ramek z których wierzchołki i krawędzie muszą pochodzić,\n",
    " - `-` oznacza, że występujący po lewej stronie wierzchołek to źródło krawędzi,\n",
    " - `->` oznacza, że występujący po prawej stronie wierzchołek to cel krawędzi.\n",
    " \n",
    "#### CREATE\n",
    "Tworzy krawędź bądź wierzchołek.\n",
    " \n",
    "#### WHERE\n",
    "Definiuje ograniczenia na atrybuty wierzchołków i krawędzi.\n",
    "\n",
    "#### RETURN [... as ...]\n",
    "Zwraca konkretne wartości z dopasowanych wierzchołków lub krawędzi.\n",
    "\n",
    "#### INTO \\<ramka\\>\n",
    "Zapisuje wynik zapytania w _TableFrame_ o nazwie _ramka_.\n",
    "\n",
    "Operacje na atrybutach dostępne w ramach słów kluczowych `WHERE` i `RETURN` obejmują:\n",
    " - operatory arytmetyczne `+`, `-`, `x`, `/`,\n",
    " - konkatenację tekstów, np. `wezel.firstName + wezel.lastName as name`,\n",
    " - wyszukiwanie wzorca w tekście: `STARTS WITH`, `ENDS WITH`, `CONTAINS`,\n",
    " - porównanie wartości: `=` (równość), `<>` (różne od), `<`, `>`, `<=`, `>=`, `IS NULL`, `IS NOT NULL`,\n",
    " - operatory boolowskie: `AND`, `OR`, `NOT`,\n",
    " - wybór z kolekcji: `IN`.\n",
    "\n",
    "Funkcje agregujące, które można użyć w Trovares Query Language:\n",
    " - `count(*)` - zliczanie,\n",
    " - `sum(*)` - suma,\n",
    " - `min()` - znajdowanie minimum,\n",
    " - `max()` - znajdowanie maximum,\n",
    " - `avg()` - średnia.\n",
    " \n",
    "Istnieją dwie funkcje specjalne do obliczania stopnia wierzchołka:\n",
    " - `indegree(a)` / `indegree(a, ramkaKrawedzi)` - oblicza liczbę krawędzi wchodzących do wierzchołka _a_ (krawędzi z podanej ramki)\n",
    " - `outdegree(a)` / `outdegree(a, ramkaKrawedzi)` - oblicza liczbę krawędzi wychodzących z wierzchołka _a_ (krawędzi z podanej ramki)"
   ]
  },
  {
   "cell_type": "markdown",
   "metadata": {},
   "source": [
    "## Wyszukiwanie klik\n",
    "\n",
    "Kolejnym przykładem będzie znajdowanie _klik_ rozmiaru trzy, tzn. takich grup trzech wierzchołków, że wszystkie one są połączone krawędziami.\n",
    "\n",
    "Rysunek poniżej przedstawia przykładowy graf z zaznaczoną na czerwono kliką rozmiaru 3. \n",
    "\n",
    "![klika rozmiaru 3](https://upload.wikimedia.org/wikipedia/commons/thumb/8/86/6n-graf-clique.svg/220px-6n-graf-clique.svg.png)\n",
    "[Źródło grafiki: wiktionary](https://pl.wiktionary.org/wiki/klika)"
   ]
  },
  {
   "cell_type": "code",
   "execution_count": null,
   "metadata": {},
   "outputs": [],
   "source": [
    "%%time\n",
    "server.drop_frame(\"results__Triangles\")\n",
    "query = \"\"\"\n",
    "MATCH (osoba1:ldbc__persons)-[zna1:ldbc__person_knows_person]->(osoba2:ldbc__persons)\n",
    "    -[zna2:ldbc__person_knows_person]->(osoba3:ldbc__persons)\n",
    "    -[zna3:ldbc__person_knows_person]->(osoba1:ldbc__persons)\n",
    "WHERE \n",
    "    osoba1.id <> osoba2.id \n",
    "    AND osoba2.id <> osoba3.id\n",
    "    AND osoba3.id <> osoba1.id\n",
    "RETURN \n",
    "    osoba1.firstName + \" \" + osoba1.lastName as osoba1,\n",
    "    osoba2.firstName + \" \" + osoba2.lastName as osoba2,\n",
    "    osoba3.firstName + \" \" + osoba3.lastName as osoba3\n",
    "INTO\n",
    "    results__Triangles\n",
    "\"\"\"\n",
    "\n",
    "server.run_job(query)"
   ]
  },
  {
   "cell_type": "markdown",
   "metadata": {},
   "source": [
    "Sprawdźmy ile różnych \"trójkątów znaleziono\""
   ]
  },
  {
   "cell_type": "code",
   "execution_count": null,
   "metadata": {},
   "outputs": [],
   "source": [
    "results = server.get_table_frame(\"results__Triangles\")\n",
    "results.num_rows"
   ]
  },
  {
   "cell_type": "markdown",
   "metadata": {},
   "source": [
    "Zobaczmy pierwsze 10 trójek osób, które zwrócono w zapytaniu."
   ]
  },
  {
   "cell_type": "code",
   "execution_count": null,
   "metadata": {},
   "outputs": [],
   "source": [
    "results.get_data(length=10)"
   ]
  },
  {
   "cell_type": "markdown",
   "metadata": {},
   "source": [
    "## Kolejny przykład na wyszukiwanie wzorca\n",
    "\n",
    "Wczytajmy komentarze (plik `comment_0_0.csv`) oraz relacje `person likes comment` (plik `person_likes_comment_0_0.csv`) i `comment has creator` (plik `comment_hasCreator_person_0_0.csv`)."
   ]
  },
  {
   "cell_type": "code",
   "execution_count": null,
   "metadata": {},
   "outputs": [],
   "source": [
    "server.drop_frame(\"ldbc__comment_hasCreator_person\")\n",
    "server.drop_frame(\"ldbc__person_likes_comment\")\n",
    "server.drop_frame(\"ldbc__comments\")\n",
    "comments = server.create_vertex_frame(\n",
    "        name='ldbc__comments',\n",
    "        schema=[['creationDate', xgt.DATETIME], ['id', xgt.INT], ['locationIP', xgt.IPADDRESS], ['browserUsed', xgt.TEXT],\n",
    "            ['content', xgt.TEXT], ['length', xgt.INT]],\n",
    "        key='id')\n",
    "comments.load(\"/home/kdmszkXX/workshop/social_network/comment_0_0.csv\", headerMode=xgt.HeaderMode.IGNORE)\n",
    "\n",
    "person_likes_comment = server.create_edge_frame(\n",
    "        name='ldbc__person_likes_comment',\n",
    "        schema=[['creationDate', xgt.DATETIME], ['Person.id', xgt.INT], ['Comment.id', xgt.INT]],\n",
    "        source=persons,\n",
    "        target=comments,\n",
    "        source_key=\"Person.id\",\n",
    "        target_key=\"Comment.id\")\n",
    "person_likes_comment.load(\"/home/kdmszkXX/workshop/social_network/person_likes_comment_0_0.csv\", headerMode=xgt.HeaderMode.IGNORE)\n",
    "\n",
    "comment_hasCreator_person = server.create_edge_frame(\n",
    "        name='ldbc__comment_hasCreator_person',\n",
    "        schema=[['creationDate', xgt.DATETIME], ['Comment.id', xgt.INT], ['Person.id', xgt.INT]],\n",
    "        source=comments,\n",
    "        target=persons,\n",
    "        source_key=\"Comment.id\",\n",
    "        target_key=\"Person.id\")\n",
    "comment_hasCreator_person.load(\"/home/kdmszkXX/workshop/social_network/comment_hasCreator_person_0_0.csv\", headerMode=xgt.HeaderMode.IGNORE)"
   ]
  },
  {
   "cell_type": "code",
   "execution_count": null,
   "metadata": {},
   "outputs": [],
   "source": [
    "print(\"Liczba komentarzy: \" + str(comments.num_rows))\n",
    "print(\"Liczba like'ow: \" + str(person_likes_comment.num_rows))"
   ]
  },
  {
   "cell_type": "markdown",
   "metadata": {},
   "source": [
    "Wybierzmy te komentarze, które dostały like'a od osoby, która zna ich autora."
   ]
  },
  {
   "cell_type": "code",
   "execution_count": null,
   "metadata": {},
   "outputs": [],
   "source": [
    "%%time\n",
    "server.drop_frame(\"results__Comments\")\n",
    "query = \"\"\"\n",
    "MATCH (comment:ldbc__comments)<-[lubi:ldbc__person_likes_comment]-(osoba1:ldbc__persons)-[zna:ldbc__person_knows_person]->(osoba2:ldbc__persons),\n",
    "    (osoba2:ldbc__persons)<-[created:ldbc__comment_hasCreator_person]-(comment:ldbc__comments)\n",
    "RETURN \n",
    "    comment\n",
    "INTO\n",
    "    results__Comments\n",
    "\"\"\"\n",
    "\n",
    "server.run_job(query)"
   ]
  },
  {
   "cell_type": "markdown",
   "metadata": {},
   "source": [
    "Sprawdźmy ile było takich komentarzy."
   ]
  },
  {
   "cell_type": "code",
   "execution_count": null,
   "metadata": {},
   "outputs": [],
   "source": [
    "results = server.get_table_frame(\"results__Comments\")\n",
    "results.num_rows"
   ]
  },
  {
   "cell_type": "markdown",
   "metadata": {},
   "source": [
    "Ponadto sprawdźmy pierwsze 10 znalezionych wyników."
   ]
  },
  {
   "cell_type": "code",
   "execution_count": null,
   "metadata": {},
   "outputs": [],
   "source": [
    "results.get_data(length=10)"
   ]
  },
  {
   "cell_type": "markdown",
   "metadata": {},
   "source": [
    "## Rozkład stopni wierzchołków\n",
    "\n",
    "_Stopień wierzchołka_ to liczba krawędzi, które mają swój początek lub koniec w danym wierzchołku.\n",
    "\n",
    "Policzmy rozkład stopni wierzchołków dla `Person`."
   ]
  },
  {
   "cell_type": "code",
   "execution_count": null,
   "metadata": {},
   "outputs": [],
   "source": [
    "%%time\n",
    "server.drop_frame(\"results__Indegrees\")\n",
    "query = \"\"\"\n",
    "MATCH (a:ldbc__persons)\n",
    "RETURN \n",
    "    indegree(a) + indegree(a)\n",
    "INTO\n",
    "    results__Indegrees\n",
    "\"\"\"\n",
    "\n",
    "server.run_job(query)"
   ]
  },
  {
   "cell_type": "markdown",
   "metadata": {},
   "source": [
    "Sprawdźmy ile wyników otrzymaliśmy (liczba ta powinna być równa liczbie wierzchołków `Person`)."
   ]
  },
  {
   "cell_type": "code",
   "execution_count": null,
   "metadata": {},
   "outputs": [],
   "source": [
    "results = server.get_table_frame(\"results__Indegrees\")\n",
    "results.num_rows"
   ]
  },
  {
   "cell_type": "markdown",
   "metadata": {},
   "source": [
    "Sprawdźmy także jak wygląda pierwsze 10 wyników."
   ]
  },
  {
   "cell_type": "code",
   "execution_count": null,
   "metadata": {},
   "outputs": [],
   "source": [
    "results.get_data(length=10)"
   ]
  },
  {
   "cell_type": "markdown",
   "metadata": {},
   "source": [
    "## Zapisywanie danych\n",
    "\n",
    "Do zapisywania danych służy funkcja `VertexFrame.save(sciezka)`/ `EdgeFrame.save(sciezka)` / `TableFrame.save(sciezka)`, która zapisuje ramkę wierzchołków, ramkę krawędzi bądź rezultat zapytania do pliku .csv o podanej ścieżce."
   ]
  },
  {
   "cell_type": "code",
   "execution_count": null,
   "metadata": {},
   "outputs": [],
   "source": [
    "results.save(\"/home/kdmszkXX/workshop/social_network/result.csv\")"
   ]
  },
  {
   "cell_type": "markdown",
   "metadata": {},
   "source": [
    "## Zadania do samodzielnej pracy\n",
    "\n",
    "1. Wybierz wszystkie osoby, które polubiły swój własny komentarz.\n",
    "2. Ile średnio komentarzy opublikowała jedna osoba?"
   ]
  },
  {
   "cell_type": "code",
   "execution_count": null,
   "metadata": {},
   "outputs": [],
   "source": [
    "# miejsce na odpowiedz\n"
   ]
  }
 ],
 "metadata": {
  "kernelspec": {
   "display_name": "Python 3",
   "language": "python",
   "name": "python3"
  },
  "language_info": {
   "codemirror_mode": {
    "name": "ipython",
    "version": 3
   },
   "file_extension": ".py",
   "mimetype": "text/x-python",
   "name": "python",
   "nbconvert_exporter": "python",
   "pygments_lexer": "ipython3",
   "version": "3.6.8"
  }
 },
 "nbformat": 4,
 "nbformat_minor": 4
}
