{
 "cells": [
  {
   "cell_type": "markdown",
   "metadata": {},
   "source": [
    "# Trovares xGT\n",
    "\n",
    "Dokumentacja: http://docs.trovares.com/v1.4/index.html\n",
    "\n",
    "## Pierwsze połączenie\n",
    "\n",
    "Warsztaty rozpoczniemy od zaimportowania potrzebnych modułów języka Python:\n",
    " - `xgt` - klient Trovares xGT, \n",
    " - `pandas` - popularana biblioteka do przetwarzania danych,\n",
    " - `re` - biblioteka do przetwarzania wyrażeń regularnych (regex).\n",
    "\n",
    "Skorzystamy także z dwóch następujących modułów pomocniczych:\n",
    " - `getpass` - narzędzia do wprowadzania haseł przez użytkowników,\n",
    " - `os`- interfejs do systemu operacyjnego."
   ]
  },
  {
   "cell_type": "code",
   "execution_count": null,
   "metadata": {},
   "outputs": [],
   "source": [
    "# importowanie bibliotek\n",
    "\n",
    "import xgt\n",
    "import getpass\n",
    "import os"
   ]
  },
  {
   "cell_type": "markdown",
   "metadata": {},
   "source": [
    "Następnie stworzymy obiekt `xgt.Connection`, który stanowi interfejs użytkownika do serwera Trovares xGT. W poniższym wywołaniu `xgt.Connection(..)`należy zmienić `kdmszkXX` na nazwę własnego użytkownika. Po wykonaniu poniższej komórki użytkownik zostanie poproszony o podanie hasła do swojego konta."
   ]
  },
  {
   "cell_type": "code",
   "execution_count": null,
   "metadata": {},
   "outputs": [],
   "source": [
    "# tworzenie polaczenia z serwerem\n",
    "# nalezy zmienic kdmszkXX na wlasna nazwe uzytkownika\n",
    "\n",
    "server = xgt.Connection(userid='kdmszkXX', credentials=getpass.getpass(), port=os.getuid()+20000)"
   ]
  },
  {
   "cell_type": "markdown",
   "metadata": {},
   "source": [
    "Aby sprawdzić połączenie z serwerem możemy wywołać funkcje sprawdzające wersję klienta i wersję serwera. Obie powinny mieć numery `v1.4.X`."
   ]
  },
  {
   "cell_type": "code",
   "execution_count": null,
   "metadata": {},
   "outputs": [],
   "source": [
    "print('Wersja klienta: {}'.format(xgt.__version__))\n",
    "print('Wersja serwera: {}'.format(server.server_version))"
   ]
  },
  {
   "cell_type": "markdown",
   "metadata": {},
   "source": [
    "## Reprezentacja danych w Trovares xGT\n",
    "\n",
    "Dane załadowane do Trovares xGT przechowywane są w tzw. `ramkach` (ang. `frame`). Ramki dzielą się na 3 typy: `VertexFrame`, `EdgeFrame` i `TableFrame`. Pierwszy typ przechowuje węzły grafu, drugi typ przechowuje krawędzie grafu a trzeci typ przechowuje pośrednie wyniki zapytań na dwóch pierwszych typach. Ramki grupowane są logicznie w przestrzenie nazw (ang. `namespaces`). Nazwy ramek muszą być następującej postaci: `<przestrzenNazw>__<nazwaRamki>`. W tych warsztatach nie będziemywchodzić w szczegóły techniczne przestrzeni nazw. Należy jedynie pamiętać o wspomnianej konwencji nazewniczej ramek.\n",
    "\n",
    "Ramki tworzy się na następujące sposoby:\n",
    " - `VertexFrame` - wywołanie `xgt.Connection.create_vertex_frame(name, schema, key)`, \n",
    " - `EdgeFrame` - wywołanie `xgt.Connection.create_edge_frame(name, schema, source, target, source_key, target_key)`\n",
    " - `TableFrame` - wywołanie zapytania na `VertexFrame` lub `EdgeFrame` w języku Trovares Query Language.\n",
    "\n",
    "Opis parametrów do utworzenia `VertexFrame`:\n",
    " - `name` - identyfikator kwalifikowany ramki (\"kwalifikowany\" oznacza, że `name` musi mieć prefiks postaci `<przestrzenNazw>__`), typ: `string`\n",
    " - `schema` - schemat ramki; każda ramka ma z góry określony typ kolumn, którego nie można zmienić 'dynamicznie' (silne typowanie pól ramki), typ: `list`\n",
    " - `key` - nazwa kolumny klucza ramki z węzłami\n",
    "\n",
    "Opis parametrów do utworzenia `EdgeFrame`:\n",
    " - `name` - identyfikator kwalifikowany ramki (\"kwalifikowany\" oznacza, że `name` musi mieć prefiks postaci `<przestrzenNazw>__`), typ: `string`\n",
    " - `schema` - schemat ramki; każda ramka ma z góry określony typ kolumn, którego nie można zmienić 'dynamicznie' (silne typowanie kolumn ramek), typ: lista par postaci `[key, xgt.TYPE]`, gdzie `key` to nazwa kolumny, a `xgt.TYPE` to jeden zdostępnych w Trovares xGT typów kolumn: `xgt.BOOLEAN`, `xgt.INT`, `xgt.FLOAT`, `xgt.DATE`, `xgt.TIME`, `xgt.DATETIME`, `xgt.IPADDRESS`, `xgt.TEXT`.\n",
    " - `source` - identyfikator ramki źródłowej, typ: `string`\n",
    " - `target` - identyfikator ramki docelowej, typ: `string`\n",
    " - `source_key` - nazwa kolumny klucza w ramce źródłowej, typ: `string`\n",
    " - `target_key` - nazwa kolumny klucza w ramce docelowej, typ: `string`\n",
    "\n",
    "Więcej o sposobie tworzenia `TableVertex` znajduje się w dalej."
   ]
  },
  {
   "cell_type": "markdown",
   "metadata": {},
   "source": [
    "## Dane do przetwarzania\n",
    "\n",
    "Podczas warsztatów będziemy korzystać ze zbioru danych `LDBC Social Network Benchmark` (przydatne linki: [strona generatora danych](https://github.com/ldbc/ldbc_snb_datagen), [specyfikacja LDBC Social Network Benchmark](http://ldbc.github.io/ldbc_snb_docs/ldbc-snb-specification.pdf)). Jest to zbiór wygenerowanych danych o fikcyjnych forach internetowych, ich użytkownikach, postach, które wysyłają itd. Więcej informacji na slajdach."
   ]
  },
  {
   "cell_type": "markdown",
   "metadata": {},
   "source": [
    "## Wczytywanie danych - wierzchołki\n",
    "\n",
    "Wczytywanie danych zostanie zademonstrowane na przykładzie encji `Person` ze zbioru danych `LDBC Social Network Benchmark`.\n",
    "\n",
    "![Person](obrazy/LDBC.Person.png)\n",
    "\n",
    "[Źródło obrazka - specyfikacja LDBC Social Network Benchmark, strona 13](https://ldbc.github.io/ldbc_snb_docs/ldbc-snb-specification.pdf).\n",
    "\n",
    "Pierwszym krokiem do wczytania danych jest upewnienie się, że docelowy `frame` jest pusty. Dzięki temu będziemy mieć pewność, że nie wystąpią błędy z powtarzającymi się identyfikatorami węzłów.\n",
    "\n",
    "Aby upewnić się, że żadna ramka nie istnieje na serwerze skorzystamy z funkcji pomocniczej `clear_all()`, która usuwa z serwera xGT wszystkie istniejące ramki."
   ]
  },
  {
   "cell_type": "code",
   "execution_count": null,
   "metadata": {},
   "outputs": [],
   "source": [
    "def clear_all():\n",
    "    [server.drop_frame(frame) for frame in server.get_edge_frames()]\n",
    "    [server.drop_frame(frame) for frame in server.get_table_frames()]\n",
    "    [server.drop_frame(frame) for frame in server.get_vertex_frames()]\n",
    "    \n",
    "clear_all()"
   ]
  },
  {
   "cell_type": "markdown",
   "metadata": {},
   "source": [
    "Następnie możemy odtworzyć ramkę przez wywołanie funkcji `xgt.Connection.create_vertex_frame(name, schema, key)`. Dla przypomnienia - argumenty tej funkcji to:\n",
    " - `name` - nazwa nowo tworzonej ramki,\n",
    " - `schema` - lista list postaci \\[`nazwa_kolumny`, `xgt.TYPE`\\], definiuje typy poszczególnych kolumn,\n",
    " - `key` - nazwa kolumny z `schema`, która będzie identyfikatorem (kluczem głównym) każdego węzła."
   ]
  },
  {
   "cell_type": "code",
   "execution_count": null,
   "metadata": {},
   "outputs": [],
   "source": [
    "persons = server.create_vertex_frame(\n",
    "        name='ldbc__persons',\n",
    "        schema=[['creationDate', xgt.DATETIME], ['id', xgt.INT], ['firstName', xgt.TEXT], ['lastName', xgt.TEXT], ['gender', xgt.TEXT], ['birthday', xgt.DATE],\n",
    "               ['locationIP', xgt.IPADDRESS], ['browserUsed', xgt.TEXT]],\n",
    "        key='id')"
   ]
  },
  {
   "cell_type": "markdown",
   "metadata": {},
   "source": [
    "Upewnijmy się jaki schemat ma ramka `persons`. Można to zrobić przez sprawdzenie pola `xgt.VertexFrame.schema`."
   ]
  },
  {
   "cell_type": "code",
   "execution_count": null,
   "metadata": {},
   "outputs": [],
   "source": [
    "persons.schema"
   ]
  },
  {
   "cell_type": "markdown",
   "metadata": {},
   "source": [
    "Na koniec wstawimy dane do serwera Trovares xGT (należe zmienić `kdmszkXX` na nazwę własnego użytkownika)."
   ]
  },
  {
   "cell_type": "code",
   "execution_count": null,
   "metadata": {},
   "outputs": [],
   "source": [
    "persons.load(\"/home/kdmszkXX/workshop/social_network/person_0_0.csv\", headerMode=xgt.HeaderMode.IGNORE)"
   ]
  },
  {
   "cell_type": "markdown",
   "metadata": {},
   "source": [
    "Sprawdźmy ile wierszy wczytano:"
   ]
  },
  {
   "cell_type": "code",
   "execution_count": null,
   "metadata": {},
   "outputs": [],
   "source": [
    "persons.num_rows"
   ]
  },
  {
   "cell_type": "markdown",
   "metadata": {},
   "source": [
    "Sprawdźmy pierwszych 10 węzłów jakie wczytano. Służy do tego funkcja `xgt.VertexFrame.get_data(offset, length)`."
   ]
  },
  {
   "cell_type": "code",
   "execution_count": null,
   "metadata": {},
   "outputs": [],
   "source": [
    "[str(person) for person in persons.get_data(length=10)]"
   ]
  },
  {
   "cell_type": "markdown",
   "metadata": {},
   "source": [
    "## Obsługa błędów\n",
    "\n",
    "Z każdą ramką skojarzony jest `TableFrame` przechowujące wszelkie błędy związane z daną ramką. Jeśli podczas wykonania kodu na danej ramce (np. przy wczytywaniu danych) pojawi się błąd, to należy sprawdzić ramkę błędów skojarzoną z ramką, na której kod wywołujemy. Poniższa komenda zwraca nazwę ramki błędów skojarzoną z `persons`."
   ]
  },
  {
   "cell_type": "code",
   "execution_count": null,
   "metadata": {},
   "outputs": [],
   "source": [
    "persons.error_frame_name"
   ]
  },
  {
   "cell_type": "markdown",
   "metadata": {},
   "source": [
    "Poniższa komenda zwróci ramkę błędów, związaną z ramką `persons`."
   ]
  },
  {
   "cell_type": "code",
   "execution_count": null,
   "metadata": {},
   "outputs": [],
   "source": [
    "try:\n",
    "    errors = server.get_table_frame(persons.error_frame_name)\n",
    "    print(\"Znaleziono ramke z bledami.\")\n",
    "except xgt.XgtNameError as e:\n",
    "    print(\"Nie znaleziono ramki z bledami. Oznacza to, ze nie bylo bledow podczas wczytywania danych do ramki 'persons'.\")"
   ]
  },
  {
   "cell_type": "markdown",
   "metadata": {},
   "source": [
    "Jeśli znaleziono ramkę z błędami to wypiszmy jej  schemat oraz pierwsze pięć błędów, które ona zawiera."
   ]
  },
  {
   "cell_type": "code",
   "execution_count": null,
   "metadata": {},
   "outputs": [],
   "source": [
    "try:\n",
    "    print(\"Schemat ramki z bledami: \" + str(errors.schema))\n",
    "    [print(error) for error in errors.get_data(length=5)]\n",
    "except (xgt.XgtNameError, NameError) as e:\n",
    "    print(\"Nie znaleziono ramki z bledami. Nie wystapily bledy.\")"
   ]
  },
  {
   "cell_type": "markdown",
   "metadata": {},
   "source": [
    "Jeśli powyższy kod zwrócił jakieś błędy to należy:\n",
    "1. naprawić błędy,\n",
    "2. **własnoręcznie** opróżnić ramkę błędów (np. przez `xgt.Connection.drop_frame(ramka)`) - w przeciwnym razie przy kolejnych próbach manipulacji ramką oryginalną będą wyświetlane stare błędy,\n",
    "3. spróbować wykonać operację na oryginalnej ramce jeszcze raz.\n",
    "\n",
    "Poniższa komenda służy do własnoręcznego opróżniania ramki błędów."
   ]
  },
  {
   "cell_type": "code",
   "execution_count": null,
   "metadata": {},
   "outputs": [],
   "source": [
    "server.drop_frame(errors)"
   ]
  },
  {
   "cell_type": "markdown",
   "metadata": {},
   "source": [
    "## Wczytywanie danych - krawędzie\n",
    "\n",
    "Wczytywanie krawędzi zostanie zademonstrowane na przykładzie relacji `Person knows Person` ze zbioru `LDBC Social Network Benchmark`.\n",
    "\n",
    "![Person knows person](obrazy/LDBC.Person_knows_Person.png)\n",
    "\n",
    "[Źródło obrazka - specyfikacja LDBC Social Network Benchmark, strona 13](https://ldbc.github.io/ldbc_snb_docs/ldbc-snb-specification.pdf).\n",
    "\n",
    "W analogiczny sposób do wierzchołków wczytywane są krawędzie. Służy do tego funkcja `xgt.Connection.create_edge_frame(..)` (sekcja `Reprezentacja danych w Trovares xGT`, patrz wyżej).\n",
    "\n"
   ]
  },
  {
   "cell_type": "code",
   "execution_count": null,
   "metadata": {},
   "outputs": [],
   "source": [
    "person_knows_person = server.create_edge_frame(\n",
    "    name=\"ldbc__person_knows_person\",\n",
    "    schema=[['creationDate', xgt.DATETIME], ['Person1.id', xgt.INT], ['Person2.id', xgt.INT]],\n",
    "    source=persons,\n",
    "    target=persons,\n",
    "    source_key='Person1.id', \n",
    "    target_key='Person2.id')"
   ]
  },
  {
   "cell_type": "markdown",
   "metadata": {},
   "source": [
    "Sprawdźmy schemat ramki `person_knows_person`."
   ]
  },
  {
   "cell_type": "code",
   "execution_count": null,
   "metadata": {},
   "outputs": [],
   "source": [
    "person_knows_person.schema"
   ]
  },
  {
   "cell_type": "markdown",
   "metadata": {},
   "source": [
    "Teraz możemy załadować dane do ramki `person_knows_person` (należy zmienić `kdmszkXX` na nazwę własnego użytkownika)."
   ]
  },
  {
   "cell_type": "code",
   "execution_count": null,
   "metadata": {},
   "outputs": [],
   "source": [
    "person_knows_person.load(\"/home/kdmszkXX/workshop/social_network/person_knows_person_0_0.csv\", headerMode=xgt.HeaderMode.IGNORE)"
   ]
  },
  {
   "cell_type": "markdown",
   "metadata": {},
   "source": [
    "Sprawdźmy ile krawędzi wczytano."
   ]
  },
  {
   "cell_type": "code",
   "execution_count": null,
   "metadata": {},
   "outputs": [],
   "source": [
    "person_knows_person.num_rows"
   ]
  },
  {
   "cell_type": "markdown",
   "metadata": {},
   "source": [
    "Sprawdźmy pierwsze 10 krawędzi jakie wczytano."
   ]
  },
  {
   "cell_type": "code",
   "execution_count": null,
   "metadata": {},
   "outputs": [],
   "source": [
    "[str(knows) for knows in person_knows_person.get_data(length=10)]"
   ]
  },
  {
   "cell_type": "markdown",
   "metadata": {},
   "source": [
    "## Zadania do samodzielnej pracy\n",
    "\n",
    " 1. Wczytaj wszystkie wierzchołki typu`Forum` z pliku `social_network/forum_0_0.csv`.\n",
    " 2. Wczytaj krawędzie o moderatorach for internetowych, tzn. krawędzie typu `HasModerator` z wierzchołków typu `Forum` do wierzchołków typu `Person` z pliku `social_network/forum_hasModerator_person_0_0.csv`."
   ]
  },
  {
   "cell_type": "code",
   "execution_count": null,
   "metadata": {},
   "outputs": [],
   "source": [
    "# miejsce na odpowiedz\n"
   ]
  }
 ],
 "metadata": {
  "kernelspec": {
   "display_name": "Python 3",
   "language": "python",
   "name": "python3"
  },
  "language_info": {
   "codemirror_mode": {
    "name": "ipython",
    "version": 3
   },
   "file_extension": ".py",
   "mimetype": "text/x-python",
   "name": "python",
   "nbconvert_exporter": "python",
   "pygments_lexer": "ipython3",
   "version": "3.6.8"
  }
 },
 "nbformat": 4,
 "nbformat_minor": 4
}